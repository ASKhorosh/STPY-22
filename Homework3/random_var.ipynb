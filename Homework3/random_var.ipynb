{
 "cells": [
  {
   "cell_type": "markdown",
   "id": "3fa93c7f",
   "metadata": {},
   "source": [
    "# Задание: \n",
    "Смоделировать игру против лотерейного автомата типа “777”. Игрок платит 1 руб., после чего выпадает случайное целое число, равномерно распределенное от 0 до 999. При некоторых значениях числа игрок получает выигрыш.\n",
    "\n",
    "* 777: 200 руб.\n",
    "* 999: 100 руб.\n",
    "* 555: 50 руб.\n",
    "* 333: 15 руб.\n",
    "* 111: 10 руб.\n",
    "* *77: 5 руб.\n",
    "* **7: 3 руб.\n",
    "* *00: 2 руб.\n",
    "* **0: 1 руб.\n",
    "\n",
    "Вопросы:\n",
    "\n",
    "1. Выгодна ли игра игроку?\n",
    "2. Сколько в среднем приобретает или теряет игрок за одну игру?"
   ]
  },
  {
   "cell_type": "code",
   "execution_count": 60,
   "id": "ff9d808d",
   "metadata": {},
   "outputs": [],
   "source": [
    "import numpy as np\n",
    "import random"
   ]
  },
  {
   "cell_type": "code",
   "execution_count": 61,
   "id": "d911f4dc",
   "metadata": {},
   "outputs": [
    {
     "name": "stdout",
     "output_type": "stream",
     "text": [
      "0.211\n",
      "0.789\n"
     ]
    }
   ],
   "source": [
    "# Считаем, какая вероятность выигрыша, чтобы ответить на ворпос 1. \n",
    "trials = 1000    # Количество попыток\n",
    "successes = 0    # Количество успехов\n",
    "losses = 0 # Количетство проигрышей\n",
    "\n",
    "\n",
    "for i in range (trials):\n",
    "    slots = [random.randint(0, 9) for j in range(3)]\n",
    "    #print(slots)\n",
    "    if (slots[0] == slots[1] == slots[2] and slots[0] in (7, 9, 5, 3, 1)) or (slots[1] == slots[2] and slots[1] in (7,0) and (slots[0]!=7)) or (slots[2] in (7,0)):\n",
    "        successes = successes+1\n",
    "        #print(\"WINNED\", successes)\n",
    "    else: \n",
    "        losses = losses+1\n",
    "        #print(\"LOSED\", losses)\n",
    "print (successes/trials) #Вероятность любого выигрыша\n",
    "print (losses/trials) #Вероятность проигрыша\n"
   ]
  },
  {
   "cell_type": "markdown",
   "id": "e831363c",
   "metadata": {},
   "source": [
    "1. Выгодна ли игра игроку?\n",
    "Вероятность получить хоть какой-то выигрыш ниже, чем проиграть. "
   ]
  },
  {
   "cell_type": "code",
   "execution_count": 95,
   "id": "d12ffabe",
   "metadata": {},
   "outputs": [
    {
     "name": "stdout",
     "output_type": "stream",
     "text": [
      "0.001\n",
      "0.999\n"
     ]
    },
    {
     "data": {
      "text/plain": [
       "-800"
      ]
     },
     "execution_count": 95,
     "metadata": {},
     "output_type": "execute_result"
    }
   ],
   "source": [
    "# Считаем, сколько может получить и пориграть игрок, чтобы ответить на вопрос 2.\n",
    "\n",
    "\n",
    "# Вероятность выиграть 200р и итоговая сумма у игрока\n",
    "trials = 1000    # Количество попыток\n",
    "successes777 = 0    # Количество успехов\n",
    "losses777 = 0 # Количетство проигрышей\n",
    "money = 0 # Количество рублей\n",
    "\n",
    "\n",
    "for i in range (trials):\n",
    "    slots = [random.randint(0, 9) for j in range(3)]\n",
    "    #print(slots)\n",
    "    if slots[0] == slots[1] == slots[2] and slots[0] == 7:\n",
    "        successes777 = successes777+1\n",
    "        money = money-1+200\n",
    "    else: \n",
    "        losses777 = losses777+1\n",
    "        money = money-1\n",
    "\n",
    "print (successes777/trials) #Вероятность выигрыша 777\n",
    "print (losses777/trials) #Вероятность проигрыша\n",
    "money"
   ]
  },
  {
   "cell_type": "code",
   "execution_count": 82,
   "id": "23d8c99d",
   "metadata": {},
   "outputs": [
    {
     "name": "stdout",
     "output_type": "stream",
     "text": [
      "0.001\n",
      "0.999\n"
     ]
    },
    {
     "data": {
      "text/plain": [
       "-9000"
      ]
     },
     "execution_count": 82,
     "metadata": {},
     "output_type": "execute_result"
    }
   ],
   "source": [
    "# Вероятность выиграть 100р и итоговая сумма у игрока\n",
    "trials = 1000    # Количество попыток\n",
    "successes999 = 0    # Количество успехов\n",
    "losses999 = 0 # Количетство проигрышей\n",
    "money = 0 # Количество рублей\n",
    "\n",
    "\n",
    "for i in range (trials):\n",
    "    slots = [random.randint(0, 9) for j in range(3)]\n",
    "    #print(slots)\n",
    "    if slots[0] == slots[1] == slots[2] and slots[0] == 9:\n",
    "        successes999 = successes999+1\n",
    "        money = money-1+100\n",
    "    else: \n",
    "        losses999 = losses999+1\n",
    "        money = money-1\n",
    "\n",
    "print (successes999/trials) #Вероятность выигрыша 999\n",
    "print (losses999/trials) #Вероятность проигрыша\n",
    "money"
   ]
  },
  {
   "cell_type": "code",
   "execution_count": 85,
   "id": "69aeaf47",
   "metadata": {},
   "outputs": [
    {
     "name": "stdout",
     "output_type": "stream",
     "text": [
      "0.015\n",
      "0.985\n"
     ]
    },
    {
     "data": {
      "text/plain": [
       "-925"
      ]
     },
     "execution_count": 85,
     "metadata": {},
     "output_type": "execute_result"
    }
   ],
   "source": [
    "# Вероятность выиграть 50р, 15р и 10р аналогичны\n",
    "\n",
    "# Вероятность выиграть 5р и итоговая сумма у игрока\n",
    "trials = 1000    # Количество попыток\n",
    "successes77 = 0    # Количество успехов\n",
    "losses77 = 0 # Количетство проигрышей\n",
    "money = 0 # Количество рублей\n",
    "\n",
    "\n",
    "for i in range (trials):\n",
    "    slots = [random.randint(0, 9) for j in range(3)]\n",
    "    #print(slots)\n",
    "    if slots[0] !=7 and slots[1] == slots[2] == 7:\n",
    "        successes77 = successes77+1\n",
    "        money = money-1+5\n",
    "    else: \n",
    "        losses77 = losses77+1\n",
    "        money = money-1\n",
    "\n",
    "print (successes77/trials) #Вероятность выигрыша *77\n",
    "print (losses77/trials) #Вероятность проигрыша\n",
    "money"
   ]
  },
  {
   "cell_type": "code",
   "execution_count": 104,
   "id": "fd31a66e",
   "metadata": {},
   "outputs": [
    {
     "name": "stdout",
     "output_type": "stream",
     "text": [
      "0.012\n",
      "0.988\n"
     ]
    },
    {
     "data": {
      "text/plain": [
       "-976"
      ]
     },
     "execution_count": 104,
     "metadata": {},
     "output_type": "execute_result"
    }
   ],
   "source": [
    "#Вероятность выиграть 2р и итоговая сумма у игрока\n",
    "trials = 1000    # Количество попыток\n",
    "successes00 = 0    # Количество успехов\n",
    "losses00 = 0 # Количетство проигрышей\n",
    "money = 0 # Количество рублей\n",
    "\n",
    "\n",
    "for i in range (trials):\n",
    "    slots = [random.randint(0, 9) for j in range(3)]\n",
    "    #print(slots)\n",
    "    if slots[1] == slots[2] == 0:\n",
    "        successes00 = successes00+1\n",
    "        money = money-1+2\n",
    "    else: \n",
    "        losses00 = losses00+1\n",
    "        money = money-1\n",
    "\n",
    "print (successes00/trials) #Вероятность выигрыша *00\n",
    "print (losses00/trials) #Вероятность проигрыша\n",
    "money"
   ]
  },
  {
   "cell_type": "code",
   "execution_count": 112,
   "id": "f094ed07",
   "metadata": {},
   "outputs": [
    {
     "name": "stdout",
     "output_type": "stream",
     "text": [
      "0.108\n",
      "0.892\n"
     ]
    },
    {
     "data": {
      "text/plain": [
       "-676"
      ]
     },
     "execution_count": 112,
     "metadata": {},
     "output_type": "execute_result"
    }
   ],
   "source": [
    "# Вероятность выиграть 3р и итоговая сумма у игрока\n",
    "trials = 1000    # Количество попыток\n",
    "successes7 = 0    # Количество успехов\n",
    "losses7 = 0 # Количетство проигрышей\n",
    "money = 0 # Количество рублей\n",
    "\n",
    "\n",
    "for i in range (trials):\n",
    "    slots = [random.randint(0, 9) for j in range(3)]\n",
    "    #print(slots)\n",
    "    if slots[1] != slots[2] and slots[2] == 7:\n",
    "        successes7 = successes7+1\n",
    "        money = money-1+3\n",
    "    else: \n",
    "        losses7 = losses7+1\n",
    "        money = money-1\n",
    "\n",
    "print (successes7/trials) #Вероятность выигрыша **7\n",
    "print (losses7/trials) #Вероятность проигрыша\n",
    "money"
   ]
  },
  {
   "cell_type": "code",
   "execution_count": 119,
   "id": "127b8c3e",
   "metadata": {},
   "outputs": [
    {
     "name": "stdout",
     "output_type": "stream",
     "text": [
      "0.105\n",
      "0.895\n"
     ]
    },
    {
     "data": {
      "text/plain": [
       "-895"
      ]
     },
     "execution_count": 119,
     "metadata": {},
     "output_type": "execute_result"
    }
   ],
   "source": [
    "# Вероятность выиграть 1р и итоговая сумма у игрока\n",
    "trials = 1000    # Количество попыток\n",
    "successes0 = 0    # Количество успехов\n",
    "losses0 = 0 # Количетство проигрышей\n",
    "money = 0 # Количество рублей\n",
    "\n",
    "\n",
    "for i in range (trials):\n",
    "    slots = [random.randint(0, 9) for j in range(3)]\n",
    "    #print(slots)\n",
    "    if slots[1] != slots[2] and slots[2] == 0:\n",
    "        successes0 = successes0+1\n",
    "        money = money-1+1\n",
    "    else: \n",
    "        losses0 = losses0+1\n",
    "        money = money-1\n",
    "\n",
    "print (successes0/trials) #Вероятность выигрыша **0\n",
    "print (losses0/trials) #Вероятность проигрыша\n",
    "money"
   ]
  },
  {
   "cell_type": "code",
   "execution_count": 124,
   "id": "44f6e35c",
   "metadata": {},
   "outputs": [
    {
     "name": "stdout",
     "output_type": "stream",
     "text": [
      "2. Сколько в среднем приобретает или теряет игрок за одну игру: 1.119 руб\n"
     ]
    }
   ],
   "source": [
    "# Математическое ожидание суммы выигрыша: \n",
    "#Берем сумму выигрыша и умножаем на вероятность выпадения нужного числа для данной суммы выигрыша\n",
    "\n",
    "M = (200+100+50+15+10)*0.001+5*0.015+2*0.12+3*0.108+1*0.105\n",
    "print ('2. Сколько в среднем приобретает или теряет игрок за одну игру:',M, 'руб')"
   ]
  },
  {
   "cell_type": "markdown",
   "id": "b9db1b92",
   "metadata": {},
   "source": []
  }
 ],
 "metadata": {
  "kernelspec": {
   "display_name": "Python 3",
   "language": "python",
   "name": "python3"
  },
  "language_info": {
   "codemirror_mode": {
    "name": "ipython",
    "version": 3
   },
   "file_extension": ".py",
   "mimetype": "text/x-python",
   "name": "python",
   "nbconvert_exporter": "python",
   "pygments_lexer": "ipython3",
   "version": "3.8.8"
  }
 },
 "nbformat": 4,
 "nbformat_minor": 5
}
